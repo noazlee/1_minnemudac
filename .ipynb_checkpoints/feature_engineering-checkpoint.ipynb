{
 "cells": [
  {
   "cell_type": "code",
   "execution_count": 3,
   "id": "aee8a538-a9a0-4431-bbf8-f14b868e0b60",
   "metadata": {},
   "outputs": [],
   "source": [
    "import pandas as pd\n",
    "import re"
   ]
  },
  {
   "cell_type": "code",
   "execution_count": 4,
   "id": "362cccbb-9377-4b30-8706-5725f1764e74",
   "metadata": {},
   "outputs": [],
   "source": [
    "df = pd.read_csv('./Data/Novice.csv')"
   ]
  },
  {
   "cell_type": "code",
   "execution_count": 5,
   "id": "7380b080-5f09-41e4-bd6d-e62c4ed20f59",
   "metadata": {},
   "outputs": [],
   "source": [
    "# Things to check alignment: Gender, Race, "
   ]
  },
  {
   "cell_type": "code",
   "execution_count": 6,
   "id": "2776a04a-343b-429d-a681-c2f53eb9039a",
   "metadata": {},
   "outputs": [],
   "source": [
    "df['Alignment Gender'] = df['Big Gender'] == df['Little Gender']"
   ]
  },
  {
   "cell_type": "code",
   "execution_count": 7,
   "id": "4fa986a7-dcfd-46fb-a9ba-a6c8af610691",
   "metadata": {},
   "outputs": [
    {
     "data": {
      "text/plain": [
       "0       True\n",
       "1       True\n",
       "2       True\n",
       "3       True\n",
       "4       True\n",
       "        ... \n",
       "3270    True\n",
       "3271    True\n",
       "3272    True\n",
       "3273    True\n",
       "3274    True\n",
       "Name: Alignment Gender, Length: 3275, dtype: bool"
      ]
     },
     "execution_count": 7,
     "metadata": {},
     "output_type": "execute_result"
    }
   ],
   "source": [
    "df['Alignment Gender']"
   ]
  },
  {
   "cell_type": "code",
   "execution_count": 8,
   "id": "93b6fbc8-8d8f-490f-bb63-75f991861490",
   "metadata": {},
   "outputs": [
    {
     "name": "stdout",
     "output_type": "stream",
     "text": [
      "3074\n"
     ]
    }
   ],
   "source": [
    "print(df['Alignment Gender'].sum())"
   ]
  },
  {
   "cell_type": "code",
   "execution_count": 9,
   "id": "ffd1bdc7-bf57-4bd0-8a75-b2cd43631c87",
   "metadata": {},
   "outputs": [],
   "source": [
    "#df.to_csv('your_file.csv', index=False)"
   ]
  },
  {
   "cell_type": "code",
   "execution_count": 11,
   "id": "df664efd-36f3-45a8-9d6b-70abd5676289",
   "metadata": {},
   "outputs": [
    {
     "data": {
      "text/plain": [
       "0       NaN\n",
       "1       NaN\n",
       "2       NaN\n",
       "3       NaN\n",
       "4       NaN\n",
       "       ... \n",
       "3270    NaN\n",
       "3271    NaN\n",
       "3272    NaN\n",
       "3273    NaN\n",
       "3274    NaN\n",
       "Name: Big Contact: Interest Finder - Sports, Length: 3275, dtype: object"
      ]
     },
     "execution_count": 11,
     "metadata": {},
     "output_type": "execute_result"
    }
   ],
   "source": [
    "df['Big Contact: Interest Finder - Sports']"
   ]
  },
  {
   "cell_type": "code",
   "execution_count": 15,
   "id": "19407604-f427-4bd5-9d46-a0f17b935207",
   "metadata": {},
   "outputs": [
    {
     "data": {
      "text/plain": [
       "9       Bowling; Frisbee; Golf/mini golf; Hockey; Ping...\n",
       "262                                               Bowling\n",
       "599     Basketball; Frisbee; Rollerskating/blading; Te...\n",
       "618           Bowling; Frisbee; Golf/mini golf; Ping Pong\n",
       "636              Bowling; Rollerskating/blading; Swimming\n",
       "725     Basketball; Bowling; Football; Frisbee; Golf/m...\n",
       "726     Basketball; Bowling; Football; Frisbee; Golf/m...\n",
       "737                                        Hockey; Tennis\n",
       "946     Bowling; Frisbee; Golf/mini golf; Ping Pong; S...\n",
       "1172    Bowling; Golf/mini golf; Rollerskating/blading...\n",
       "1324    Baseball/Softball; Basketball; Bowling; Golf/m...\n",
       "1350    Bowling; Football; Frisbee; Golf/mini golf; Ma...\n",
       "1381                                           None/Other\n",
       "1389    Bowling; Frisbee; Golf/mini golf; Ping Pong; R...\n",
       "1392       Baseball/Softball; Bowling; Frisbee; Ping Pong\n",
       "1423    Basketball; Bowling; Football; Rollerskating/b...\n",
       "1447    Baseball/Softball; Bowling; Golf/mini golf; Gy...\n",
       "1478    Baseball/Softball; Bowling; Football; Frisbee;...\n",
       "1523    Bowling; Ping Pong; Rollerskating/blading; Soc...\n",
       "1552    Basketball; Bowling; Golf/mini golf; Skiing; S...\n",
       "1554    Baseball/Softball; Basketball; Bowling; Footba...\n",
       "1720    Bowling; Frisbee; Golf/mini golf; Ping Pong; S...\n",
       "1726    Baseball/Softball; Basketball; Bowling; Footba...\n",
       "1773    Basketball; Football; Gymnastics; Rollerskatin...\n",
       "2005    Basketball; Frisbee; Rollerskating/blading; Te...\n",
       "2172          Bowling; Frisbee; Golf/mini golf; Ping Pong\n",
       "3125                                              Frisbee\n",
       "Name: Big Contact: Interest Finder - Sports, dtype: object"
      ]
     },
     "execution_count": 15,
     "metadata": {},
     "output_type": "execute_result"
    }
   ],
   "source": [
    "filtered_df = df.dropna(subset=['Big Contact: Interest Finder - Sports'])\n",
    "filtered_df['Big Contact: Interest Finder - Sports']"
   ]
  },
  {
   "cell_type": "code",
   "execution_count": 16,
   "id": "9619fc74-4e6a-4171-9c07-f3ab1df28f1d",
   "metadata": {},
   "outputs": [
    {
     "data": {
      "text/plain": [
       "0       NaN\n",
       "1       NaN\n",
       "2       NaN\n",
       "3       NaN\n",
       "4       NaN\n",
       "       ... \n",
       "3270    NaN\n",
       "3271    NaN\n",
       "3272    NaN\n",
       "3273    NaN\n",
       "3274    NaN\n",
       "Name: Little Contact: Interest Finder - Sports, Length: 3275, dtype: object"
      ]
     },
     "execution_count": 16,
     "metadata": {},
     "output_type": "execute_result"
    }
   ],
   "source": [
    "df['Little Contact: Interest Finder - Sports']"
   ]
  },
  {
   "cell_type": "code",
   "execution_count": 17,
   "id": "0daa5279-9257-43f3-b404-8837b9b274bd",
   "metadata": {},
   "outputs": [
    {
     "data": {
      "text/plain": [
       "107     Baseball/Softball; Basketball; Bowling; Gymnas...\n",
       "109     Baseball/Softball; Basketball; Bowling; Gymnas...\n",
       "142                                              Swimming\n",
       "145                                              Swimming\n",
       "147                                              Swimming\n",
       "                              ...                        \n",
       "1682             Bowling; Football; Rollerskating/blading\n",
       "1891    Basketball; Football; Frisbee; Golf/mini golf;...\n",
       "1897    Baseball/Softball; Basketball; Bowling; Footba...\n",
       "1913    Basketball; Bowling; Frisbee; Golf/mini golf; ...\n",
       "1914    Basketball; Bowling; Frisbee; Golf/mini golf; ...\n",
       "Name: Little Contact: Interest Finder - Sports, Length: 80, dtype: object"
      ]
     },
     "execution_count": 17,
     "metadata": {},
     "output_type": "execute_result"
    }
   ],
   "source": [
    "filtered_df = df.dropna(subset=['Little Contact: Interest Finder - Sports'])\n",
    "filtered_df['Little Contact: Interest Finder - Sports']"
   ]
  }
 ],
 "metadata": {
  "kernelspec": {
   "display_name": "Python 3 (ipykernel)",
   "language": "python",
   "name": "python3"
  },
  "language_info": {
   "codemirror_mode": {
    "name": "ipython",
    "version": 3
   },
   "file_extension": ".py",
   "mimetype": "text/x-python",
   "name": "python",
   "nbconvert_exporter": "python",
   "pygments_lexer": "ipython3",
   "version": "3.13.2"
  }
 },
 "nbformat": 4,
 "nbformat_minor": 5
}
